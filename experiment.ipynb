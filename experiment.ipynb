{
 "cells": [
  {
   "cell_type": "markdown",
   "metadata": {},
   "source": [
    "# Efficient Exploration through ALPaCA Q Learning\n",
    "Course project for CS332: Advanced Survey on Reinforcement Learning\n",
    "\n",
    "Fengjun Yang, 2018"
   ]
  },
  {
   "cell_type": "code",
   "execution_count": 52,
   "metadata": {},
   "outputs": [],
   "source": [
    "%reload_ext autoreload\n",
    "%autoreload 2\n",
    "\n",
    "# ALPaCA\n",
    "from agent.alpaca import ALPaCA\n",
    "from agent.alpacaQ import ALPaCAQ, EGreedyALPaCAQ, TS_ALPaCAQ, TS_MC_ALPaCAQ\n",
    "from agent.alpacaoffline import ALPaCAOffline\n",
    "\n",
    "# Mountain Car related\n",
    "from metamountaincar.mmcenv import MetaMountainCar as MMC\n",
    "from metamountaincar.utility import *\n",
    "from metamountaincar.VI import mmcVI\n",
    "from metamountaincar.mmcDataset import mmcDataset, mmcOfflineDataset\n",
    "from metamountaincar.mmcNormalize import mmcNorm\n",
    "\n",
    "# Utility\n",
    "import numpy as np\n",
    "import yaml\n",
    "from tqdm import tqdm"
   ]
  },
  {
   "cell_type": "code",
   "execution_count": 2,
   "metadata": {},
   "outputs": [],
   "source": [
    "# Load configuration file\n",
    "cfg_filename = 'config.yml'\n",
    "with open(cfg_filename,'r') as ymlfile:\n",
    "    config = yaml.load(ymlfile)"
   ]
  },
  {
   "cell_type": "markdown",
   "metadata": {},
   "source": [
    "## Generate value functions for offline training. \n",
    "Technically, one can use mmcDataset directly for ALPaCA offline training. Here, however, we store and reuse sampled data.\n",
    "\n",
    "SKIP IF USING PRESAMPLED DATA"
   ]
  },
  {
   "cell_type": "code",
   "execution_count": null,
   "metadata": {},
   "outputs": [],
   "source": [
    "# Sample Q functions and store in DATA_DIR\n",
    "for i in tqdm(range(N_DATASET)):\n",
    "    sample = mmcDataset(config).sample(N_FUNCS, N_SAMPLES)\n",
    "    with open(DATA_DIR+str(i)+'.yml', 'w') as yml_file:\n",
    "        yml_file.write(yaml.dump(sample))"
   ]
  },
  {
   "cell_type": "markdown",
   "metadata": {},
   "source": [
    "## Offline training"
   ]
  },
  {
   "cell_type": "code",
   "execution_count": 3,
   "metadata": {},
   "outputs": [],
   "source": [
    "# Load dataset for offline training\n",
    "dataset = mmcOfflineDataset(config)\n",
    "\n",
    "# Initialize offline alpaca agent\n",
    "offline = ALPaCAOffline(config)"
   ]
  },
  {
   "cell_type": "code",
   "execution_count": 3,
   "metadata": {},
   "outputs": [],
   "source": [
    "# Initialize offline alpaca agent\n",
    "offline = ALPaCAOffline(config)"
   ]
  },
  {
   "cell_type": "code",
   "execution_count": null,
   "metadata": {
    "scrolled": true
   },
   "outputs": [],
   "source": [
    "# Offline training\n",
    "offline.train_offline(dataset, 5000)"
   ]
  },
  {
   "cell_type": "code",
   "execution_count": 23,
   "metadata": {},
   "outputs": [
    {
     "name": "stdout",
     "output_type": "stream",
     "text": [
      "Saved to: ./saveagent/\n"
     ]
    }
   ],
   "source": [
    "# Save agent in a specified directory\n",
    "# offline.save_agent('./saveagent/')"
   ]
  },
  {
   "cell_type": "code",
   "execution_count": 4,
   "metadata": {},
   "outputs": [
    {
     "name": "stdout",
     "output_type": "stream",
     "text": [
      "INFO:tensorflow:Restoring parameters from ./saveagent/\n",
      "Restored model from: ./saveagent/\n"
     ]
    }
   ],
   "source": [
    "offline.load_agent('./saveagent/')"
   ]
  },
  {
   "cell_type": "markdown",
   "metadata": {},
   "source": [
    "## Mountain Car Experiment / RL"
   ]
  },
  {
   "cell_type": "code",
   "execution_count": 6,
   "metadata": {},
   "outputs": [
    {
     "name": "stdout",
     "output_type": "stream",
     "text": [
      "\u001b[33mWARN: gym.spaces.Box autodetected dtype as <class 'numpy.float32'>. Please provide explicit dtype.\u001b[0m\n"
     ]
    }
   ],
   "source": [
    "env = MMC(config)"
   ]
  },
  {
   "cell_type": "code",
   "execution_count": 61,
   "metadata": {},
   "outputs": [],
   "source": [
    "eg_agent = EGreedyALPaCAQ(offline, env)\n",
    "ts_agent = TS_ALPaCAQ(offline, env)"
   ]
  },
  {
   "cell_type": "code",
   "execution_count": 63,
   "metadata": {},
   "outputs": [
    {
     "name": "stderr",
     "output_type": "stream",
     "text": [
      "100%|██████████| 10/10 [00:22<00:00,  2.28s/it]\n"
     ]
    }
   ],
   "source": [
    "res = learning_rate(ts_agent, env, num_episodes=5, num_test_plays=1)"
   ]
  },
  {
   "cell_type": "markdown",
   "metadata": {},
   "source": [
    "## Clean up"
   ]
  },
  {
   "cell_type": "code",
   "execution_count": null,
   "metadata": {},
   "outputs": [],
   "source": [
    "env.close()"
   ]
  },
  {
   "cell_type": "code",
   "execution_count": 65,
   "metadata": {},
   "outputs": [],
   "source": [
    "offline.sess.close()"
   ]
  }
 ],
 "metadata": {
  "kernelspec": {
   "display_name": "Python 3",
   "language": "python",
   "name": "python3"
  },
  "language_info": {
   "codemirror_mode": {
    "name": "ipython",
    "version": 3
   },
   "file_extension": ".py",
   "mimetype": "text/x-python",
   "name": "python",
   "nbconvert_exporter": "python",
   "pygments_lexer": "ipython3",
   "version": "3.6.6"
  }
 },
 "nbformat": 4,
 "nbformat_minor": 2
}
