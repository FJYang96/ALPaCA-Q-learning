{
 "cells": [
  {
   "cell_type": "code",
   "execution_count": 1,
   "metadata": {},
   "outputs": [
    {
     "name": "stderr",
     "output_type": "stream",
     "text": [
      "/home/jack/.local/lib/python3.6/site-packages/gym/envs/registration.py:14: PkgResourcesDeprecationWarning: Parameters to load are deprecated.  Call .resolve and .require separately.\n",
      "  result = entry_point.load(False)\n"
     ]
    }
   ],
   "source": [
    "# Utility\n",
    "import numpy as np\n",
    "import yaml\n",
    "\n",
    "# ALPaCA code\n",
    "from main.alpaca import *\n",
    "from main.dataset import *\n",
    "from main.dataViz import *\n",
    "\n",
    "# Mountain Car related\n",
    "from MCTransfer import MountainCarTransfer as MCF\n",
    "from MCWrapper import play_episode\n",
    "from VIAgent import MCVI\n",
    "from MCDataset import MCOnlineSampleDataset, MCOfflineDataset\n",
    "from ALPaCAQ_agent import ALPaCA_Q\n",
    "\n",
    "# Plotting\n",
    "import matplotlib.pyplot as plt\n",
    "from mpl_toolkits.mplot3d import Axes3D\n",
    "from matplotlib import cm\n",
    "from tqdm import tqdm\n",
    "\n",
    "# MAML\n",
    "#from main.maml_agent import MAMLAgent, register_flags\n",
    "#register_flags()"
   ]
  },
  {
   "cell_type": "code",
   "execution_count": 2,
   "metadata": {},
   "outputs": [],
   "source": [
    "%reload_ext autoreload\n",
    "%autoreload 2"
   ]
  },
  {
   "cell_type": "markdown",
   "metadata": {},
   "source": [
    "## Offline ALPaCA Training / Load Pretrained ALPaCA"
   ]
  },
  {
   "cell_type": "code",
   "execution_count": 3,
   "metadata": {},
   "outputs": [],
   "source": [
    "# Load data set\n",
    "cfg_filename = 'MC-config.yml'\n",
    "with open(cfg_filename,'r') as ymlfile:\n",
    "    config = yaml.load(ymlfile)\n",
    "dataset = MCOfflineDataset(config)"
   ]
  },
  {
   "cell_type": "code",
   "execution_count": 4,
   "metadata": {},
   "outputs": [],
   "source": [
    "# Initialize agent\n",
    "g1 = tf.Graph()\n",
    "sess1 = tf.InteractiveSession(config=tf.ConfigProto(log_device_placement=True), graph=g1)\n",
    "agent = ALPaCA(config, sess1, g1)\n",
    "agent.construct_model()"
   ]
  },
  {
   "cell_type": "code",
   "execution_count": 5,
   "metadata": {},
   "outputs": [
    {
     "name": "stdout",
     "output_type": "stream",
     "text": [
      "INFO:tensorflow:Restoring parameters from ./Pretrained_alpaca/norm_y_2/\n",
      "Restored model from: ./Pretrained_alpaca/norm_y_2/\n"
     ]
    }
   ],
   "source": [
    "# Either load pre-trained agent\n",
    "agent.restore('./Pretrained_alpaca/norm_y_2/')\n",
    "# Or train agent and save\n",
    "#agent.train(dataset,2000)\n",
    "#agent.save('./Pretrained_alpaca/norm_y_2//')"
   ]
  },
  {
   "cell_type": "markdown",
   "metadata": {},
   "source": [
    "## Online prediction with analytical solution"
   ]
  },
  {
   "cell_type": "code",
   "execution_count": null,
   "metadata": {},
   "outputs": [],
   "source": [
    "# Extract information from agent\n",
    "K0 = sess1.run(agent.K)\n",
    "L0 = sess1.run(agent.L)\n",
    "L0_inv = np.linalg.inv(L0)\n",
    "Sig = sess1.run(agent.SigEps)\n",
    "encode = agent.encode"
   ]
  },
  {
   "cell_type": "code",
   "execution_count": null,
   "metadata": {
    "scrolled": true
   },
   "outputs": [],
   "source": [
    "# Predict a specific point\n",
    "state = np.array([0.5, 0.06])\n",
    "norm_ob = dataset.normalize_x(state[None,None,:])\n",
    "phi = encode(norm_ob)[0].T\n",
    "pred_mean = dataset.denormalize_y(K0.T @ phi)\n",
    "pred_var = (1 + phi.T @ L0_inv @ phi) * np.diag(Sig[0,0]) * (dataset.q_var ** 2)\n",
    "pred_mean.flatten(), pred_var"
   ]
  },
  {
   "cell_type": "code",
   "execution_count": null,
   "metadata": {},
   "outputs": [],
   "source": [
    "# Update the model with some test online data\n",
    "# Suppose online data is: (for action 0)\n",
    "# - (0.5,0.06) --> 1\n",
    "action = 0\n",
    "X = np.array([[0.5,0.06]]).T\n",
    "Y = np.array([[0]])\n",
    "# Preprocess the data\n",
    "norm_X = dataset.normalize_x(X.T[None,:,:])\n",
    "Phi = agent.encode(norm_X)[0].astype(np.float64)\n",
    "norm_Y = dataset.normalize_y(Y[None,:,:])"
   ]
  },
  {
   "cell_type": "code",
   "execution_count": null,
   "metadata": {},
   "outputs": [],
   "source": [
    "# Predict the same point after the observations using the analytical solution\n",
    "L_ana = (Phi.T @ Phi + L0).astype(np.float64)\n",
    "L_ana_inv = np.linalg.inv(L_ana)\n",
    "K_ana = K0.copy().astype(np.float64)\n",
    "Q_ana = Phi.T @ norm_Y + (L0 @ (K0[:, action]))[:, None]\n",
    "K_ana[:, action] = (L_ana_inv @ Q_ana)[0,:,0]\n",
    "pred_mean = dataset.denormalize_y(K_ana.T @ phi)\n",
    "pred_var = (1 + phi.T @ L_ana_inv @ phi) * np.diag(Sig[0,0]) * (dataset.q_var ** 2)\n",
    "pred_mean.flatten(), pred_var"
   ]
  },
  {
   "cell_type": "markdown",
   "metadata": {},
   "source": [
    "## Online prediction with incremental update"
   ]
  },
  {
   "cell_type": "code",
   "execution_count": null,
   "metadata": {},
   "outputs": [],
   "source": [
    "# Predict the same point after incremental update\n",
    "aq = ALPaCA_Q(agent, None, config, sess1)"
   ]
  },
  {
   "cell_type": "code",
   "execution_count": null,
   "metadata": {},
   "outputs": [],
   "source": [
    "aq.update_model(X.T[0],action,norm_Y[0])\n",
    "target = dataset.normalize_y(0)\n",
    "aq.predict_q_values(state).flatten()"
   ]
  },
  {
   "cell_type": "code",
   "execution_count": null,
   "metadata": {},
   "outputs": [],
   "source": [
    "aq.predict_var(state) * dataset.q_var ** 2"
   ]
  },
  {
   "cell_type": "markdown",
   "metadata": {},
   "source": [
    "## Plot true q-table"
   ]
  },
  {
   "cell_type": "code",
   "execution_count": null,
   "metadata": {},
   "outputs": [],
   "source": [
    "def sample_MC_parameters(config):\n",
    "    \"\"\"\n",
    "    Sample a gravity - thrust file that is compatible with the config file\n",
    "    \"\"\"\n",
    "    # Sample a thrust-gravity pair\n",
    "    thrust_range = config['thrust_range']\n",
    "    gravity_range = config['gravity_range']\n",
    "    thrust_diff = thrust_range[1] - thrust_range[0]\n",
    "    grav_diff = gravity_range[1] - gravity_range[0]\n",
    "    thrust = np.random.random() * thrust_diff + thrust_range[0]\n",
    "    grav = np.random.random() * grav_diff + gravity_range[0]\n",
    "    return grav, thrust"
   ]
  },
  {
   "cell_type": "code",
   "execution_count": null,
   "metadata": {},
   "outputs": [],
   "source": [
    "def plot_true_cost_to_go(Q_table, savedir=None):\n",
    "    \"\"\"\n",
    "    Plots the cost_to_go for a given Q-table as a 3-d surface map\n",
    "    Assumes Q_table is of shape (N,N,3)\n",
    "    \"\"\"\n",
    "    assert len(Q_table.shape) == 3 and Q_table.shape[0] == Q_table.shape[1]\n",
    "    gran = Q_table.shape[0]\n",
    "    X = np.arange(-1.2, 0.6, 1.8/gran)\n",
    "    Y = np.arange(-0.07, 0.07, 0.14/gran)\n",
    "    X,Y = np.meshgrid(x_sample,y_sample)\n",
    "    Z = Q_table.max(axis=2).T\n",
    "    # Plotting\n",
    "    fig = plt.figure()\n",
    "    ax = fig.add_subplot(111, projection='3d')\n",
    "    ax.plot_surface(X,Y,-state_value.T, rstride=5, cstride=5, cmap=cm.coolwarm)\n",
    "    if savedir is not None:\n",
    "        fig.savefig(savedir,transparent=True)"
   ]
  },
  {
   "cell_type": "code",
   "execution_count": null,
   "metadata": {},
   "outputs": [],
   "source": [
    "# Sample or specify a gravity - thrust pair\n",
    "gravity, thrust = 0.0025, 0.001"
   ]
  },
  {
   "cell_type": "code",
   "execution_count": null,
   "metadata": {},
   "outputs": [],
   "source": [
    "# Compute VI for this configuration\n",
    "gran = 150\n",
    "VIagent = MCVI(gran, 200, gravity=grav, thrust=thrust)\n",
    "VIagent.value_iteration()\n",
    "Q_table = VIagent.q_table"
   ]
  },
  {
   "cell_type": "code",
   "execution_count": null,
   "metadata": {},
   "outputs": [],
   "source": [
    "# Plot\n",
    "plot_true_cost_to_go(Q_table)"
   ]
  },
  {
   "cell_type": "markdown",
   "metadata": {},
   "source": [
    "## Plot learned q function"
   ]
  },
  {
   "cell_type": "code",
   "execution_count": 7,
   "metadata": {},
   "outputs": [],
   "source": [
    "def plot_learned_cost_to_go(ALPaCA_Q, grid, savedir=None):\n",
    "    \"\"\"\n",
    "    Plot the learned cost to go function for an ALPaCA_Q agent\n",
    "    \"\"\"\n",
    "    # Process the data for plotting\n",
    "    X = np.arange(-1.2, 0.6, 1.8/grid)\n",
    "    Y = np.arange(-0.07, 0.07, 0.14/grid)\n",
    "    X,Y = np.meshgrid(X,Y)\n",
    "    # Fill in the table by iteratively querying the agent\n",
    "    Z = np.zeros(X.shape)\n",
    "    for i in range(grid):\n",
    "        for j in range(grid):\n",
    "            Z[i,j] = ALPaCA_Q.predict_q_values(np.array([X[i,j],Y[i,j]])).max()\n",
    "    # Plotting\n",
    "    fig = plt.figure()\n",
    "    ax = fig.add_subplot(111, projection='3d')\n",
    "    ax.plot_surface(X,Y,-Z, cmap=cm.coolwarm)\n",
    "    if savedir is not None:\n",
    "        fig.savefig(savedir,transparent=True)"
   ]
  },
  {
   "cell_type": "code",
   "execution_count": 8,
   "metadata": {},
   "outputs": [],
   "source": [
    "def plot_learned_variance(ALPaCA_Q, grid, savedir=None):\n",
    "    \"\"\"\n",
    "    Plot the learned cost to go function for an ALPaCA_Q agent\n",
    "    \"\"\"\n",
    "    # Process the data for plotting\n",
    "    X = np.arange(-1.2, 0.6, 1.8/grid)\n",
    "    Y = np.arange(-0.07, 0.07, 0.14/grid)\n",
    "    X,Y = np.meshgrid(X,Y)\n",
    "    # Fill in the table by iteratively querying the agent\n",
    "    Z = np.zeros(X.shape)\n",
    "    for i in range(grid):\n",
    "        for j in range(grid):\n",
    "            s = np.array([X[i,j],Y[i,j]])\n",
    "            Z[i,j] = ALPaCA_Q.predict_var(s).mean()\n",
    "    # Plotting\n",
    "    fig = plt.figure()\n",
    "    ax = fig.add_subplot(111, projection='3d')\n",
    "    ax.plot_surface(X,Y,np.sqrt(Z), cmap=cm.coolwarm)\n",
    "    if savedir is not None:\n",
    "        fig.savefig(savedir,transparent=True)"
   ]
  },
  {
   "cell_type": "code",
   "execution_count": null,
   "metadata": {},
   "outputs": [],
   "source": [
    "# Define an agent\n",
    "agent.restore('./Pretrained_alpaca/norm_y_2/')\n",
    "aq = ALPaCA_Q(agent, None, config, sess1)"
   ]
  },
  {
   "cell_type": "code",
   "execution_count": null,
   "metadata": {
    "scrolled": false
   },
   "outputs": [],
   "source": [
    "plot_learned_cost_to_go(MCaq, 20)"
   ]
  },
  {
   "cell_type": "code",
   "execution_count": null,
   "metadata": {},
   "outputs": [],
   "source": [
    "plot_learned_variance(aq,20)"
   ]
  },
  {
   "cell_type": "markdown",
   "metadata": {},
   "source": [
    "## Mountain Car Experiment / RL"
   ]
  },
  {
   "cell_type": "code",
   "execution_count": 6,
   "metadata": {},
   "outputs": [],
   "source": [
    "def plot_summary(result):\n",
    "    avg_result = result.mean(0)\n",
    "    ind = np.arange(len(avg_result)) + 1\n",
    "    plt.plot(ind, avg_result)\n",
    "    plt.show()"
   ]
  },
  {
   "cell_type": "code",
   "execution_count": null,
   "metadata": {},
   "outputs": [],
   "source": [
    "%reload_ext autoreload\n",
    "%autoreload 2"
   ]
  },
  {
   "cell_type": "code",
   "execution_count": null,
   "metadata": {},
   "outputs": [],
   "source": [
    "# Create environment and ALPaCA Q agent\n",
    "env = MCF()\n",
    "agent.restore('./Pretrained_alpaca/norm_y_2/')\n",
    "aq = ALPaCA_Q(agent, None, config, sess1)\n",
    "MCaq = ALPaCA_Q(agent, env, config, sess1)"
   ]
  },
  {
   "cell_type": "code",
   "execution_count": 9,
   "metadata": {},
   "outputs": [
    {
     "name": "stdout",
     "output_type": "stream",
     "text": [
      "\u001b[33mWARN: gym.spaces.Box autodetected dtype as <class 'numpy.float32'>. Please provide explicit dtype.\u001b[0m\n",
      "\u001b[33mWARN: gym.spaces.Box autodetected dtype as <class 'numpy.float32'>. Please provide explicit dtype.\u001b[0m\n"
     ]
    }
   ],
   "source": [
    "grav, thru = (0.0021448523969069813, 0.0012198799893080752)\n",
    "env1 = MCF(gravity=grav, thrust=thru)\n",
    "grav, thru = (0.0023464856819864063, 0.0013694856651231633)\n",
    "env2 = MCF(gravity=grav, thrust=thru)"
   ]
  },
  {
   "cell_type": "code",
   "execution_count": null,
   "metadata": {
    "scrolled": true
   },
   "outputs": [],
   "source": [
    "# E-greedy learning env1\n",
    "num_experiments = 20\n",
    "num_episodes = 10\n",
    "num_plays = 3\n",
    "step_limit = 200\n",
    "env = env1\n",
    "e_greedy_results_env1 = np.zeros((num_experiments, num_episodes))\n",
    "# Run experiment\n",
    "for i in tqdm(range(num_experiments)):\n",
    "    MCaq = ALPaCA_Q(agent, env, config, sess1) #Reinitialize agent for each experiment\n",
    "    for j in range(num_episodes):\n",
    "        train_step = MCaq.e_greedy_train_episode(step_limit,render=False)\n",
    "        # Play several games to find average steps\n",
    "        play_step = []\n",
    "        for k in range(num_plays):\n",
    "            play_step.append(play_episode(env, MCaq, render=False,it=step_limit))\n",
    "        e_greedy_results_env1[i][j] = np.mean(play_step)"
   ]
  },
  {
   "cell_type": "code",
   "execution_count": null,
   "metadata": {
    "scrolled": true
   },
   "outputs": [],
   "source": [
    "# E-greedy learning env2\n",
    "num_experiments = 20\n",
    "num_episodes = 1000\n",
    "num_plays = 3\n",
    "step_limit = 200\n",
    "env = env2\n",
    "e_greedy_results_env2 = np.zeros((num_experiments, num_episodes))\n",
    "# Run experiment\n",
    "for i in tqdm(range(num_experiments)):\n",
    "    MCaq = ALPaCA_Q(agent, env, config, sess1) #Reinitialize agent for each experiment\n",
    "    for j in range(num_episodes):\n",
    "        train_step = MCaq.e_greedy_train_episode(step_limit,render=False)\n",
    "        # Play several games to find average steps\n",
    "        play_step = []\n",
    "        for k in range(num_plays):\n",
    "            play_step.append(play_episode(env, MCaq, render=False,it=step_limit))\n",
    "        e_greedy_results_env2[i][j] = np.mean(play_step)"
   ]
  },
  {
   "cell_type": "code",
   "execution_count": 12,
   "metadata": {
    "scrolled": true
   },
   "outputs": [
    {
     "name": "stderr",
     "output_type": "stream",
     "text": [
      "100%|██████████| 10/10 [1:29:44<00:00, 517.06s/it]\n"
     ]
    }
   ],
   "source": [
    "# TS learning env1\n",
    "num_experiments = 10\n",
    "num_episodes = 1000\n",
    "num_plays = 3\n",
    "step_limit = 200\n",
    "env = env1\n",
    "# Array to store results\n",
    "TS_results_env1 = np.zeros((num_experiments, num_episodes))\n",
    "# Run experiment\n",
    "for i in tqdm(range(num_experiments)):\n",
    "    MCaq = ALPaCA_Q(agent, env, config, sess1)\n",
    "    for j in range(num_episodes):\n",
    "        train_step = MCaq.ts_train_episode(step_limit,render=False)# Train an episode and get data\n",
    "        # Play several games to find average steps\n",
    "        play_step = []\n",
    "        for k in range(num_plays):\n",
    "            play_step.append(play_episode(env, MCaq, render=False,it=step_limit))\n",
    "        TS_results_env1[i][j] = np.mean(play_step)"
   ]
  },
  {
   "cell_type": "code",
   "execution_count": 13,
   "metadata": {
    "scrolled": true
   },
   "outputs": [
    {
     "name": "stderr",
     "output_type": "stream",
     "text": [
      "/usr/local/lib/python3.6/dist-packages/matplotlib/font_manager.py:1238: UserWarning: findfont: Font family ['serif'] not found. Falling back to DejaVu Sans.\n",
      "  (prop.get_family(), self.defaultFamily[fontext]))\n"
     ]
    },
    {
     "data": {
      "image/png": "[encoded data removed]",
      "text/plain": [
       "<Figure size 432x288 with 1 Axes>"
      ]
     },
     "metadata": {
      "needs_background": "light"
     },
     "output_type": "display_data"
    }
   ],
   "source": [
    "plot_summary(TS_results_env1)"
   ]
  },
  {
   "cell_type": "code",
   "execution_count": null,
   "metadata": {},
   "outputs": [],
   "source": [
    "# TS learning env2\n",
    "num_experiments = 20\n",
    "num_episodes = 1000\n",
    "num_plays = 3\n",
    "step_limit = 200\n",
    "env = env2\n",
    "# Array to store results\n",
    "TS_results_env2 = np.zeros((num_experiments, num_episodes))\n",
    "# Run experiment\n",
    "for i in tqdm(range(num_experiments)):\n",
    "    MCaq = ALPaCA_Q(agent, env, config, sess1)\n",
    "    for j in range(num_episodes):\n",
    "        train_step = MCaq.ts_train_episode(step_limit,render=False)# Train an episode and get data\n",
    "        # Play several games to find average steps\n",
    "        play_step = []\n",
    "        for k in range(num_plays):\n",
    "            play_step.append(play_episode(env, MCaq, render=False,it=step_limit))\n",
    "        TS_results_env2[i][j] = np.mean(play_step)"
   ]
  },
  {
   "cell_type": "code",
   "execution_count": null,
   "metadata": {},
   "outputs": [],
   "source": [
    "# Summerize results\n",
    "eg_result1 = np.loadtxt()"
   ]
  },
  {
   "cell_type": "code",
   "execution_count": null,
   "metadata": {},
   "outputs": [],
   "source": [
    "plot_summary(e_greedy_results_backup_2)"
   ]
  },
  {
   "cell_type": "code",
   "execution_count": null,
   "metadata": {},
   "outputs": [],
   "source": [
    "plot_learned_cost_to_go(MCaq, grid=25)"
   ]
  },
  {
   "cell_type": "code",
   "execution_count": null,
   "metadata": {},
   "outputs": [],
   "source": [
    "plot_learned_variance(MCaq,grid=25)"
   ]
  },
  {
   "cell_type": "code",
   "execution_count": null,
   "metadata": {
    "scrolled": false
   },
   "outputs": [],
   "source": [
    "e_greedy_summary = e_greedy_results_env2[:18].mean(0)\n",
    "plt.plot(np.arange(num_episodes)+1, e_greedy_summary)\n",
    "#plt.savefig('Plots/e-greedy-steps0.png')"
   ]
  },
  {
   "cell_type": "code",
   "execution_count": null,
   "metadata": {},
   "outputs": [],
   "source": [
    "#env1_params_backup\n",
    "#env2_params_backup\n",
    "#e_greedy_results_backup_1 #500 episode original env\n",
    "#e_greedy_results_backup_2 #1000 episode env1, 20 experiments, epsilon=0.3\n",
    "#e_greedy_results_backup_3 #1000 episode env2, 19 experiment, epsilon=0.3"
   ]
  },
  {
   "cell_type": "markdown",
   "metadata": {},
   "source": [
    "## Clean up"
   ]
  },
  {
   "cell_type": "code",
   "execution_count": null,
   "metadata": {},
   "outputs": [],
   "source": [
    "env.close()\n",
    "env1.close()\n",
    "env2.close()"
   ]
  },
  {
   "cell_type": "code",
   "execution_count": null,
   "metadata": {},
   "outputs": [],
   "source": [
    "sess1.close()"
   ]
  }
 ],
 "metadata": {
  "kernelspec": {
   "display_name": "Python 3",
   "language": "python",
   "name": "python3"
  },
  "language_info": {
   "codemirror_mode": {
    "name": "ipython",
    "version": 3
   },
   "file_extension": ".py",
   "mimetype": "text/x-python",
   "name": "python",
   "nbconvert_exporter": "python",
   "pygments_lexer": "ipython3",
   "version": "3.6.6"
  }
 },
 "nbformat": 4,
 "nbformat_minor": 2
}
